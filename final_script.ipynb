{
 "cells": [
  {
   "cell_type": "code",
   "execution_count": 41,
   "metadata": {},
   "outputs": [],
   "source": [
    "import cv2\n",
    "import joblib\n",
    "import os\n",
    "import time\n",
    "from os import walk\n",
    "from skimage import feature\n",
    "import imageio\n",
    "import numpy as np\n",
    "from matplotlib import pyplot as plt\n",
    "from sklearn.svm import SVC\n",
    "from sklearn.model_selection import train_test_split\n",
    "from scipy import ndimage as ndi\n",
    "import pickle\n",
    "import pandas as pd\n",
    "from sklearn.decomposition import PCA\n",
    "# from sklearn.metrics import plot_confusion_matrix\n",
    "\n",
    "from sklearn.metrics import ConfusionMatrixDisplay\n"
   ]
  },
  {
   "cell_type": "code",
   "execution_count": 5,
   "metadata": {},
   "outputs": [],
   "source": [
    "  \n",
    "def segm_6(img):\n",
    "#     blur the img then turn it into gray scale\n",
    "    blur = cv2.GaussianBlur(img, (5, 5), 0)\n",
    "    gray = cv2.cvtColor(blur, cv2.COLOR_BGR2GRAY)\n",
    "    return gray\n",
    "\n",
    "def segm_9(img):\n",
    "    # Convert BGR to HSV color space\n",
    "    hsv_img = cv2.cvtColor(img, cv2.COLOR_BGR2YCR_CB)\n",
    "    # Split HSV image into separate channels\n",
    "    _, _, B_channel = cv2.split(hsv_img)\n",
    "    _, trr2 = cv2.threshold(\n",
    "        B_channel, 1, 1.0, cv2.THRESH_BINARY_INV + cv2.THRESH_OTSU)\n",
    "    \n",
    "    trr2 = ndi.binary_fill_holes(trr2).astype(np.uint8)\n",
    "    \n",
    "    contours ,_= cv2.findContours(trr2, cv2.RETR_LIST, cv2.CHAIN_APPROX_SIMPLE)\n",
    "    maxcontour = max(contours, key=cv2.contourArea)\n",
    "    x,y,w,h = cv2.boundingRect(maxcontour)\n",
    "    crop = img[y:y+h,x:x+w]\n",
    "    masked_data = cv2.bitwise_and(crop, crop,mask = trr2[y:y+h,x:x+w])\n",
    "    masked_data = cv2.resize(masked_data,(128*2,64*2))\n",
    "    return cv2.cvtColor(masked_data, cv2.COLOR_BGR2GRAY)\n",
    "  \n",
    "  \n",
    "def make_to_left(img):\n",
    "  a = img.sum(axis=0)\n",
    "  a = a / a.max()\n",
    "  if(a[:int(len(a)//8)].sum() < a[int(len(a)*7//8):].sum()):\n",
    "    # flip the image\n",
    "    return cv2.flip(img, 1)\n",
    "  return img\n",
    "\n",
    "def preprocess(img):\n",
    "\n",
    "  img = make_to_left(img)\n",
    "  img = segm_9(img)\n",
    "  return img\n",
    "\n"
   ]
  },
  {
   "cell_type": "code",
   "execution_count": 127,
   "metadata": {},
   "outputs": [],
   "source": [
    "\n",
    "\n",
    "def ImageSegmentation():\n",
    "    path_IS = r\"./test_test_seg\"\n",
    "    if not os.path.exists(path_IS):\n",
    "        os.makedirs(path_IS)\n",
    "    lstFiles = []  # nombre de imagenes\n",
    "    path = r\"./New folder\"\n",
    "\n",
    "    for (path, _, archivos) in walk(path):\n",
    "        # print(path)\n",
    "        for arch in archivos:\n",
    "            (nomArch, ext) = os.path.splitext(arch)\n",
    "            if (ext == \".JPG\" or ext == \".jpg\" or ext == \".PNG\" or ext == \".png\"  ):\n",
    "                label = path.split(\"\\\\\")[-1]\n",
    "                # print(label)\n",
    "                lstFiles.append(nomArch + ext)\n",
    "                direc = path + \"/\" + nomArch + ext\n",
    "                name = label + \"_\" + nomArch + ext\n",
    "                # print(path + \"/\" + nomArch + ext)\n",
    "                image = cv2.imread(direc)\n",
    "\n",
    "                if image is not None:\n",
    "                    image = cv2.resize(image, (461, 260))\n",
    "                    # # cv2.imshow(\"ss\",image)\n",
    "                    # image = cv2.adaptiveThreshold(image, 255, cv2.ADAPTIVE_THRESH_GAUSSIAN_C,\n",
    "                    #                               cv2.THRESH_BINARY, 11, 2)\n",
    "                    # image = cv2.GaussianBlur(image, (5, 5), 0)\n",
    "\n",
    "                    # image = np.sum(image, axis= 1)\n",
    "                    # print(image.shape())\n",
    "                    # holesimg = preprocess(direc)\n",
    "                    # plt.imshow(image,'gray')\n",
    "                    # # plt.title(titles[i])\n",
    "                    # plt.xticks([]),plt.yticks([])\n",
    "                    # plt.show()\n",
    "                    image = preprocess(image)\n",
    "                    imageio.imwrite(os.path.join(path_IS, name), image)\n",
    "\n",
    "\n",
    "ImageSegmentation()\n"
   ]
  },
  {
   "cell_type": "code",
   "execution_count": 132,
   "metadata": {},
   "outputs": [
    {
     "name": "stdout",
     "output_type": "stream",
     "text": [
      "HOG\n",
      "\n",
      "PCA\n",
      "(1841, 706)\n"
     ]
    },
    {
     "name": "stderr",
     "output_type": "stream",
     "text": [
      "100%|██████████| 1841/1841 [00:03<00:00, 460.35it/s]\n"
     ]
    }
   ],
   "source": [
    "# def HOG_oper(img_binary):\n",
    "#     (H) = feature.hog(img_binary, orientations=9, pixels_per_cell=(16,16),\n",
    "#                                   cells_per_block=(2, 2), transform_sqrt=True, block_norm=\"L1\",channel_axis=-1) \n",
    "#     pca = joblib.load(r\"./Feature-Extraction/pca.pkl\") #PCA(0.97).fit_transform(H.reshape(1, -1))\n",
    "#     components = pca.transform(H.reshape(1, -1))\n",
    "#     # joblib.dump(pca, r\"./Feature-Extraction/pca.pkl\")\n",
    "#     return components\n",
    "from tqdm import tqdm\n",
    "def HOG_PCA():\n",
    "    data_HOG = pd.read_csv(r'./Feature-Extraction/last_hog.txt', sep=',', header=None)\n",
    "    file2 = open(r\"./Feature-Extraction/last_hog_PCA.txt\", \"w\")\n",
    "    name_HOG = data_HOG.iloc[:, 0]\n",
    "    value_HOG = data_HOG.iloc[:, 1:-1]\n",
    "    tag_HOG = data_HOG.iloc[:, -1] # 0,1,2,3,4,5\n",
    "    print(\"PCA\")\n",
    "    pca = PCA(0.97).fit(value_HOG)\n",
    "    joblib.dump(pca, r\"./Feature-Extraction/last_hog_pca.pkl\")\n",
    "    \n",
    "    components = pca.transform(value_HOG)\n",
    "    print(components.shape)\n",
    "    for row in tqdm(range(len(components))):\n",
    "        file2.write(name_HOG[row])\n",
    "        for colm in range(len(components[row])):\n",
    "            file2.write(\",%.4f\" %components[row][colm])\n",
    "        file2.write(\",%s\" %tag_HOG[row] + \"\\n\")\n",
    "    file2.close()\n",
    "\n",
    "def HOG():\n",
    "    print(\"HOG\\n\")\n",
    "    file  = open(r\"./Feature-Extraction/last_hog.txt\", \"w\")\n",
    "    lstFiles = []  # nombre de imagenes\n",
    "    path = r\"./test_seg\"\n",
    "    for (path, _, archivos) in walk(path):\n",
    "        for arch in archivos:\n",
    "            (nomArch, ext) = os.path.splitext(arch)\n",
    "            if (ext == \".JPG\"):\n",
    "                lstFiles.append(nomArch + ext)\n",
    "                direc = path + \"/\" + nomArch + ext\n",
    "                name = nomArch + ext\n",
    "                # print(nomArch + ext)\n",
    "                img_binary = cv2.imread(direc,0)\n",
    "                \n",
    "                (H) = feature.hog(img_binary, orientations=9,  pixels_per_cell=(16, 16),\n",
    "                                  cells_per_block=(3, 3) ,block_norm='L2-Hys',feature_vector=True)#,channel_axis=-1)  # ,visualize=True\n",
    "                file.write(name)\n",
    "                for item in range(len(H)):\n",
    "                    file.write(\",%.3f\" % H[item])\n",
    "                file.write(\",\" + name[0] + \"\\n\")\n",
    "    file.close()\n",
    "    \n",
    "HOG()\n",
    "HOG_PCA()\n"
   ]
  },
  {
   "cell_type": "code",
   "execution_count": 149,
   "metadata": {},
   "outputs": [],
   "source": [
    "pca_transformer = joblib.load(\"./Feature-Extraction/last_hog_pca.pkl\")\n",
    "\n",
    "labels, features =[], []\n",
    "for imagePath in os.listdir(\"test_seg\"):\n",
    "    # extract the label from the image path\n",
    "    # we can get the label from the image name as the label is the first char of the image name\n",
    "    # for example, the label of image 1_1.jpg is 1\n",
    "    labels.append((int)(imagePath.split(os.path.sep)[-1][0]))\n",
    "    \n",
    "    # load the image, convert it to grayscale, and detect\n",
    "    # edges in it\n",
    "    image = cv2.imread(\"test_seg/\" + imagePath,0)\n",
    "    \n",
    "    # extract Histogram of Oriented Gradients from the\n",
    "    # test image\n",
    "    # display the original image\n",
    "    # if the image exists, display it and count the number of images\n",
    "    if image is not None:\n",
    "        # image = cv2.cvtColor(image, cv2.COLOR_BGR2GRAY)\n",
    "        # image = cv2.resize(image, (461, 260))\n",
    "        # image = preprocess(image)\n",
    "        (H) = feature.hog(image, orientations=9,  pixels_per_cell=(16, 16),\n",
    "                                  cells_per_block=(3, 3) ,block_norm='L2-Hys',feature_vector=True)#,channel_axis=-1)  # ,visualize=True\n",
    "\n",
    "        # components = pca_transformer.transform(H.reshape(1, -1))\n",
    "        features.append(H)\n",
    "        # print(components.shape)\n"
   ]
  },
  {
   "cell_type": "code",
   "execution_count": 49,
   "metadata": {},
   "outputs": [
    {
     "name": "stdout",
     "output_type": "stream",
     "text": [
      "1841\n",
      "1841\n"
     ]
    }
   ],
   "source": [
    "print(len(labels))\n",
    "print(len(features))"
   ]
  },
  {
   "cell_type": "code",
   "execution_count": 153,
   "metadata": {},
   "outputs": [
    {
     "data": {
      "text/plain": [
       "(1472, 6804)"
      ]
     },
     "execution_count": 153,
     "metadata": {},
     "output_type": "execute_result"
    }
   ],
   "source": [
    "trainingData, testData, trainingLabels, testLabels = train_test_split(features, labels, test_size=0.2, random_state=42)\n",
    "trainingData = np.asarray(trainingData)\n",
    "trainingData.shape\n",
    "# testData = np.asarray(testData)\n",
    "\n",
    "# nsamples_test, nx_test, ny_test = testData.shape\n",
    "# testData = testData.reshape((nsamples_test,nx_test*ny_test))"
   ]
  },
  {
   "cell_type": "code",
   "execution_count": 155,
   "metadata": {},
   "outputs": [],
   "source": [
    "model = SVC(kernel='poly')#, gamma=0.1, C=10)\n",
    "# trainingData, testData, trainingLabels, testLabels = train_test_split(features, labels, test_size=0.2, random_state=42)\n",
    "\n",
    "# trainingData = np.asarray(trainingData)\n",
    "\n",
    "# nsamples, nx, ny = trainingData.shape\n",
    "# trainingData = trainingData.reshape((nsamples,nx*ny))\n",
    "model.fit(trainingData, trainingLabels)\n",
    "f = open(\"last_hog_clf.pkl\", \"wb\") # wb = write binary\n",
    "f.write(pickle.dumps(model))\n",
    "f.close()\n",
    "\n",
    "\n"
   ]
  },
  {
   "cell_type": "code",
   "execution_count": 161,
   "metadata": {},
   "outputs": [
    {
     "name": "stdout",
     "output_type": "stream",
     "text": [
      "0.8482384823848238\n"
     ]
    }
   ],
   "source": [
    "model = joblib.load(\"./last_hog_clf.pkl\")\n",
    "pca_transformer = joblib.load(\"./Feature-Extraction/last_hog_pca.pkl\")\n",
    "test_labels, test_times = [], []\n",
    "\n",
    "count_right = 0\n",
    "# for imagePath in os.listdir(direc):\n",
    "for i, image in enumerate(testData):\n",
    "\n",
    "\n",
    "    if image is not None:\n",
    "        start = time.time()\n",
    "\n",
    "        label = model.predict(image.reshape(1, -1))\n",
    "        end = time.time() - start\n",
    "        if label == testLabels[i]:\n",
    "            count_right += 1\n",
    "        test_labels.append(label)\n",
    "        test_times.append(end)\n",
    "\n",
    "\n",
    "\n",
    "with open(r'result_labels.txt', 'w') as fp:\n",
    "    for item in test_labels:\n",
    "        # write each item on a new line\n",
    "        fp.write(\"%s\\n\" % item[0])\n",
    "with open(r'./result_times.txt', 'w') as fp:\n",
    "    fp.write(\"\\n\".join(str(item) for item in test_times))\n",
    "    \n",
    "print(count_right/len(testLabels))\n"
   ]
  },
  {
   "cell_type": "code",
   "execution_count": 63,
   "metadata": {},
   "outputs": [
    {
     "name": "stdout",
     "output_type": "stream",
     "text": [
      "Confusion matrix, without normalization\n",
      "[[51  0  0  0  1  0]\n",
      " [ 2 69  2  1  0  0]\n",
      " [ 0  3 53  5  0  0]\n",
      " [ 0  0  7 38  9  2]\n",
      " [ 1  0  7 13 39  2]\n",
      " [ 0  0  0  3  5 56]]\n",
      "Normalized confusion matrix\n",
      "[[0.98076923 0.         0.         0.         0.01923077 0.        ]\n",
      " [0.02702703 0.93243243 0.02702703 0.01351351 0.         0.        ]\n",
      " [0.         0.04918033 0.86885246 0.08196721 0.         0.        ]\n",
      " [0.         0.         0.125      0.67857143 0.16071429 0.03571429]\n",
      " [0.01612903 0.         0.11290323 0.20967742 0.62903226 0.03225806]\n",
      " [0.         0.         0.         0.046875   0.078125   0.875     ]]\n"
     ]
    },
    {
     "data": {
      "image/png": "[encoded data removed]",
      "text/plain": [
       "<Figure size 640x480 with 2 Axes>"
      ]
     },
     "metadata": {},
     "output_type": "display_data"
    },
    {
     "data": {
      "image/png": "[encoded data removed]",
      "text/plain": [
       "<Figure size 640x480 with 2 Axes>"
      ]
     },
     "metadata": {},
     "output_type": "display_data"
    }
   ],
   "source": [
    "titles_options = [\n",
    "    (\"Confusion matrix, without normalization\", None),\n",
    "    (\"Normalized confusion matrix\", \"true\"),\n",
    "]\n",
    "for title, normalize in titles_options:\n",
    "    disp = ConfusionMatrixDisplay.from_estimator(\n",
    "        model,\n",
    "        testData,\n",
    "        testLabels,\n",
    "        display_labels=['0','1','2','3','4','5'],\n",
    "        cmap=plt.cm.Blues,\n",
    "        normalize=normalize,\n",
    "    )\n",
    "    disp.ax_.set_title(title)\n",
    "\n",
    "    print(title)\n",
    "    print(disp.confusion_matrix)\n"
   ]
  },
  {
   "cell_type": "code",
   "execution_count": 173,
   "metadata": {},
   "outputs": [
    {
     "ename": "SyntaxError",
     "evalue": "invalid syntax (896203790.py, line 21)",
     "output_type": "error",
     "traceback": [
      "\u001b[1;36m  Cell \u001b[1;32mIn[173], line 21\u001b[1;36m\u001b[0m\n\u001b[1;33m    |\u001b[0m\n\u001b[1;37m    ^\u001b[0m\n\u001b[1;31mSyntaxError\u001b[0m\u001b[1;31m:\u001b[0m invalid syntax\n"
     ]
    }
   ],
   "source": [
    "labels2, predicted_labels =[], []\n",
    "for imagePath in os.listdir(\"test_test_seg\"):\n",
    "    # extract the label from the image path\n",
    "    # we can get the label from the image name as the label is the first char of the image name\n",
    "    # for example, the label of image 1_1.jpg is 1\n",
    "    labels2.append((int)(imagePath.split(os.path.sep)[-1][0]))\n",
    "    \n",
    "    # load the image, convert it to grayscale, and detect\n",
    "    # edges in it\n",
    "    image = cv2.imread(\"test_test_seg/\" + imagePath)\n",
    "    \n",
    "    # extract Histogram of Oriented Gradients from the\n",
    "    # test image\n",
    "    # display the original image\n",
    "    # if the image exists, display it and count the number of images\n",
    "    if image is not None:      \n",
    "        (H) = feature.hog(image, orientations=9,  pixels_per_cell=(16, 16),\n",
    "                                  cells_per_block=(3, 3) ,block_norm='L2-Hys',feature_vector=True,channel_axis=-1)  # ,visualize=True\n",
    "        predicted_label = model.predict(H.reshape(1, -1))\n",
    "        predicted_labels.append(predicted_label[0])\n"
   ]
  },
  {
   "cell_type": "code",
   "execution_count": 172,
   "metadata": {},
   "outputs": [
    {
     "name": "stdout",
     "output_type": "stream",
     "text": [
      "0.6542056074766355\n"
     ]
    }
   ],
   "source": [
    "predicted_labels = np.asarray(predicted_labels)\n",
    "labels2 = np.asarray(labels2)\n",
    "\n",
    "print(len(predicted_labels[predicted_labels != labels2]) / len(labels2))\n",
    "# print(labels2)"
   ]
  },
  {
   "cell_type": "code",
   "execution_count": 87,
   "metadata": {},
   "outputs": [
    {
     "ename": "IndexError",
     "evalue": "invalid index to scalar variable.",
     "output_type": "error",
     "traceback": [
      "\u001b[1;31m---------------------------------------------------------------------------\u001b[0m",
      "\u001b[1;31mIndexError\u001b[0m                                Traceback (most recent call last)",
      "Cell \u001b[1;32mIn[87], line 4\u001b[0m\n\u001b[0;32m      2\u001b[0m predicted_labels \u001b[39m=\u001b[39m np\u001b[39m.\u001b[39masanyarray(predicted_labels)\n\u001b[0;32m      3\u001b[0m \u001b[39m# predicted_labels = predicted_labels.reshape(1,-1)\u001b[39;00m\n\u001b[1;32m----> 4\u001b[0m predicted_labels \u001b[39m=\u001b[39m [x[\u001b[39m0\u001b[39;49m] \u001b[39mfor\u001b[39;49;00m x \u001b[39min\u001b[39;49;00m predicted_labels]\n\u001b[0;32m      5\u001b[0m predicted_labels \u001b[39m=\u001b[39m np\u001b[39m.\u001b[39masanyarray(predicted_labels)\n\u001b[0;32m      7\u001b[0m \u001b[39mprint\u001b[39m(predicted_labels\u001b[39m.\u001b[39mshape)\n",
      "Cell \u001b[1;32mIn[87], line 4\u001b[0m, in \u001b[0;36m<listcomp>\u001b[1;34m(.0)\u001b[0m\n\u001b[0;32m      2\u001b[0m predicted_labels \u001b[39m=\u001b[39m np\u001b[39m.\u001b[39masanyarray(predicted_labels)\n\u001b[0;32m      3\u001b[0m \u001b[39m# predicted_labels = predicted_labels.reshape(1,-1)\u001b[39;00m\n\u001b[1;32m----> 4\u001b[0m predicted_labels \u001b[39m=\u001b[39m [x[\u001b[39m0\u001b[39;49m] \u001b[39mfor\u001b[39;00m x \u001b[39min\u001b[39;00m predicted_labels]\n\u001b[0;32m      5\u001b[0m predicted_labels \u001b[39m=\u001b[39m np\u001b[39m.\u001b[39masanyarray(predicted_labels)\n\u001b[0;32m      7\u001b[0m \u001b[39mprint\u001b[39m(predicted_labels\u001b[39m.\u001b[39mshape)\n",
      "\u001b[1;31mIndexError\u001b[0m: invalid index to scalar variable."
     ]
    }
   ],
   "source": [
    "labels2 = np.asanyarray(labels2)\n",
    "predicted_labels = np.asanyarray(predicted_labels)\n",
    "# predicted_labels = predicted_labels.reshape(1,-1)\n",
    "predicted_labels = [x[0] for x in predicted_labels]\n",
    "predicted_labels = np.asanyarray(predicted_labels)\n",
    "\n",
    "print(predicted_labels.shape)\n"
   ]
  },
  {
   "cell_type": "code",
   "execution_count": 94,
   "metadata": {},
   "outputs": [
    {
     "name": "stdout",
     "output_type": "stream",
     "text": [
      "0.3271028037383178\n"
     ]
    }
   ],
   "source": [
    "wrong = len(labels2[labels2 != predicted_labels])\n",
    "print(1-wrong/107)"
   ]
  },
  {
   "cell_type": "code",
   "execution_count": 128,
   "metadata": {},
   "outputs": [],
   "source": [
    "# !rm -rf /content/kaggle/dataset/dataset\n",
    "def plt_t(title, img, cmap=None):\n",
    "    plt.imshow(img, cmap=cmap)\n",
    "    plt.title(title)\n",
    "    plt.show()"
   ]
  },
  {
   "cell_type": "code",
   "execution_count": 159,
   "metadata": {},
   "outputs": [],
   "source": [
    "kamal_labels_labels_bgd = pd.read_csv(\"./kamal_labels.txt\", header= None)#, delimiter='\\n')\n",
    "\n",
    "# print(len(kamal_labels_labels_bgd))\n",
    "kamal_labels_labels_bgd = np.asarray(kamal_labels_labels_bgd.values)"
   ]
  },
  {
   "cell_type": "code",
   "execution_count": 158,
   "metadata": {},
   "outputs": [],
   "source": [
    "kamal_labels = []\n",
    "i = 0\n",
    "for imagePath in os.listdir(\"kamal\"):\n",
    "\n",
    "    image = cv2.imread(\"kamal/\" + imagePath)\n",
    "\n",
    "    if image is not None:\n",
    "        # image = cv2.cvtColor(image, cv2.COLOR_BGR2GRAY)\n",
    "        # image = cv2.resize(image, (461, 260))\n",
    "        image = preprocess(image)\n",
    "        # plt_t('a', image)\n",
    "        # print(image.shape)\n",
    "        (H, vis) = feature.hog(image, orientations=9,  pixels_per_cell=(16, 16),\n",
    "                          cells_per_block=(3, 3), block_norm='L2-Hys', feature_vector=True, visualize = True)\n",
    "\n",
    "        # components = pca_transformer.transform(H.reshape(1, -1))\n",
    "        # kamal_labels.append(model.predict(components)[0])\n",
    "        label_k = model.predict(H.reshape(1, -1))[0]\n",
    "        # if label_k != kamal_labels_labels_bgd[i]:\n",
    "            # plt_t(' ', image, cmap='gray')\n",
    "            # plt_t(' ', vis, cmap='gray')\n",
    "        i += 1\n",
    "        # features.append(components)\n",
    "        # print(components.shape)\n"
   ]
  },
  {
   "cell_type": "code",
   "execution_count": 142,
   "metadata": {},
   "outputs": [],
   "source": [
    "\n",
    "# print(kamal_labels_labels_bgd)\n",
    "\n",
    "# print(kamal_labels_labels_bgd.shape)\n",
    "# kamal_labels = np.asarray(kamal_labels)\n",
    "\n",
    "# print(kamal_labels)\n",
    "# print(kamal_labels.shape)\n"
   ]
  },
  {
   "cell_type": "code",
   "execution_count": 160,
   "metadata": {},
   "outputs": [
    {
     "name": "stdout",
     "output_type": "stream",
     "text": [
      "0\n"
     ]
    }
   ],
   "source": [
    "\n",
    "# kamal_labels = np.asarray(kamal_labels)\n",
    "# kamal_labels_labels_bgd = [x[0] for x in kamal_labels_labels_bgd]\n",
    "# kamal_labels_labels_bgd = np.asarray(kamal_labels_labels_bgd)\n",
    "# print(kamal_labels.shape)\n",
    "# print(kamal_labels_labels_bgd.shape)\n",
    "\n",
    "print(len(kamal_labels_labels_bgd[kamal_labels_labels_bgd != kamal_labels ]) )"
   ]
  }
 ],
 "metadata": {
  "kernelspec": {
   "display_name": "Python 3",
   "language": "python",
   "name": "python3"
  },
  "language_info": {
   "codemirror_mode": {
    "name": "ipython",
    "version": 3
   },
   "file_extension": ".py",
   "mimetype": "text/x-python",
   "name": "python",
   "nbconvert_exporter": "python",
   "pygments_lexer": "ipython3",
   "version": "3.11.1"
  },
  "orig_nbformat": 4
 },
 "nbformat": 4,
 "nbformat_minor": 2
}
