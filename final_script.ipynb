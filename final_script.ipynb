{
 "cells": [
  {
   "cell_type": "code",
   "execution_count": 27,
   "metadata": {},
   "outputs": [],
   "source": [
    "import cv2\n",
    "import joblib\n",
    "import os\n",
    "import time\n",
    "from os import walk\n",
    "from skimage import feature\n",
    "import imageio\n",
    "import numpy as np\n",
    "from matplotlib import pyplot as plt\n",
    "from sklearn.svm import SVC\n",
    "from sklearn.model_selection import train_test_split\n",
    "\n",
    "import pickle\n"
   ]
  },
  {
   "cell_type": "code",
   "execution_count": 3,
   "metadata": {},
   "outputs": [],
   "source": [
    "  \n",
    "def segm_6(img):\n",
    "#     blur the img then turn it into gray scale\n",
    "    blur = cv2.GaussianBlur(img, (5, 5), 0)\n",
    "    gray = cv2.cvtColor(blur, cv2.COLOR_BGR2GRAY)\n",
    "    return gray\n",
    "\n",
    "\n",
    "def make_to_left(img):\n",
    "  a = img.sum(axis=0)\n",
    "  a = a / a.max()\n",
    "  if(a[:int(len(a)//8)].sum() < a[int(len(a)*7//8):].sum()):\n",
    "    # flip the image\n",
    "    return cv2.flip(img, 1)\n",
    "  return img\n",
    "\n",
    "def preprocess(img):\n",
    "\n",
    "  holesimg = segm_6(img)\n",
    "  # holesimg = segm_4(img_rgb)\n",
    "  # holesimg = segm_6(img_rgb)\n",
    "  holesimg = make_to_left(holesimg)\n",
    "  return holesimg\n",
    "\n"
   ]
  },
  {
   "cell_type": "code",
   "execution_count": 24,
   "metadata": {},
   "outputs": [],
   "source": [
    "\n",
    "\n",
    "def ImageSegmentation():\n",
    "    path_IS = r\"./test_seg\"\n",
    "    if not os.path.exists(path_IS):\n",
    "        os.makedirs(path_IS)\n",
    "    lstFiles = []  # nombre de imagenes\n",
    "    path = r\"./dataset\"\n",
    "\n",
    "    for (path, _, archivos) in walk(path):\n",
    "        # print(path)\n",
    "        for arch in archivos:\n",
    "            (nomArch, ext) = os.path.splitext(arch)\n",
    "            if (ext == \".JPG\"):\n",
    "                label = path.split(\"\\\\\")[-1]\n",
    "                # print(label)\n",
    "                lstFiles.append(nomArch + ext)\n",
    "                direc = path + \"/\" + nomArch + ext\n",
    "                name = label + \"_\" + nomArch + ext\n",
    "                # print(path + \"/\" + nomArch + ext)\n",
    "                image = cv2.imread(direc, 0)\n",
    "\n",
    "                if image is not None:\n",
    "                    image = cv2.resize(image, (461, 260))\n",
    "                    # cv2.imshow(\"ss\",image)\n",
    "                    image = cv2.adaptiveThreshold(image, 255, cv2.ADAPTIVE_THRESH_GAUSSIAN_C,\n",
    "                                                  cv2.THRESH_BINARY, 11, 2)\n",
    "                    image = cv2.GaussianBlur(image, (5, 5), 0)\n",
    "\n",
    "                    # image = np.sum(image, axis= 1)\n",
    "                    # print(image.shape())\n",
    "                    # holesimg = preprocess(direc)\n",
    "                    # plt.imshow(image,'gray')\n",
    "                    # # plt.title(titles[i])\n",
    "                    # plt.xticks([]),plt.yticks([])\n",
    "                    # plt.show()\n",
    "                    imageio.imwrite(os.path.join(path_IS, name), image)\n",
    "\n",
    "\n",
    "ImageSegmentation()\n"
   ]
  },
  {
   "cell_type": "code",
   "execution_count": 34,
   "metadata": {},
   "outputs": [],
   "source": [
    "\n",
    "labels, features =[], []\n",
    "for imagePath in os.listdir(\"test_seg\"):\n",
    "    # extract the label from the image path\n",
    "    # we can get the label from the image name as the label is the first char of the image name\n",
    "    # for example, the label of image 1_1.jpg is 1\n",
    "    labels.append((int)(imagePath.split(os.path.sep)[-1][0]))\n",
    "    \n",
    "    # load the image, convert it to grayscale, and detect\n",
    "    # edges in it\n",
    "    image = cv2.imread(\"test_seg/\" + imagePath)\n",
    "    \n",
    "    # extract Histogram of Oriented Gradients from the\n",
    "    # test image\n",
    "    # display the original image\n",
    "    # if the image exists, display it and count the number of images\n",
    "    if image is not None:\n",
    "        image = cv2.cvtColor(image, cv2.COLOR_BGR2GRAY)\n",
    "        # image = cv2.resize(image, (461, 260))\n",
    "        # (H, hogImage) = feature.hog(image, orientations=9,  pixels_per_cell=(32, 32), cells_per_block=(2, 2), transform_sqrt=True, block_norm=\"L1\", visualize=True, feature_vector=True)\n",
    "        # H = H.reshape(-1, 1)\n",
    "        # pca = PCA(0.8).fit(H)\n",
    "        # components = pca.transform(H)\n",
    "        features.append(np.sum(image, axis= 1))\n",
    "\n",
    "        \n",
    "\n",
    "        # store the label and features in the csv file\n",
    "        #csv.writer(features_file).writerow([labels[-1], pca_features])\n"
   ]
  },
  {
   "cell_type": "code",
   "execution_count": 39,
   "metadata": {},
   "outputs": [
    {
     "data": {
      "text/plain": [
       "1941"
      ]
     },
     "execution_count": 39,
     "metadata": {},
     "output_type": "execute_result"
    }
   ],
   "source": [
    "# len(labels)\n",
    "len(features)"
   ]
  },
  {
   "cell_type": "code",
   "execution_count": 40,
   "metadata": {},
   "outputs": [],
   "source": [
    "model = SVC(kernel='rbf', gamma=0.1, C=10)\n",
    "trainingData, testData, trainingLabels, testLabels = train_test_split(features, labels, test_size=0.2, random_state=42)\n",
    "\n",
    "model.fit(trainingData, trainingLabels)\n",
    "\n",
    "# evaluate the model and update the accuracies list\n",
    "# acc = model.a\n",
    "# accuracy = acc\n",
    "# print(\"[INFO] accuracy: {:.2f}%\".format(acc * 100), flush=True)\n",
    "# # dump the classifier to file\n",
    "# print(\"[INFO] dumping classifier to file...\", flush=True)\n",
    "f = open(\"test_clf.pkl\", \"wb\") # wb = write binary\n",
    "f.write(pickle.dumps(model))\n",
    "f.close()\n",
    "\n",
    "\n"
   ]
  },
  {
   "cell_type": "code",
   "execution_count": 44,
   "metadata": {},
   "outputs": [
    {
     "name": "stderr",
     "output_type": "stream",
     "text": [
      "C:\\Users\\77\\AppData\\Roaming\\Python\\Python311\\site-packages\\sklearn\\base.py:318: UserWarning: Trying to unpickle estimator PCA from version 1.0.2 when using version 1.2.2. This might lead to breaking code or invalid results. Use at your own risk. For more info please refer to:\n",
      "https://scikit-learn.org/stable/model_persistence.html#security-maintainability-limitations\n",
      "  warnings.warn(\n"
     ]
    },
    {
     "name": "stdout",
     "output_type": "stream",
     "text": [
      "0.2159383033419023\n"
     ]
    }
   ],
   "source": [
    "# direc = \"Image-Segmentation1\"\n",
    "direc = \"./im\"\n",
    "# model = joblib.load(\"./SVM_classifier.pkl\")\n",
    "model = joblib.load(\"./test_clf.pkl\")\n",
    "pca_transformer = joblib.load(\"./Feature-Extraction/pca.pkl\")\n",
    "labels, times = [], []\n",
    "\n",
    "count_right = 0\n",
    "# for imagePath in os.listdir(direc):\n",
    "for i, image in enumerate(testData):\n",
    "\n",
    "    # image = cv2.imread(direc + \"/\" + imagePath)\n",
    "    # image = cv2.resize(image, (461, 260))\n",
    "\n",
    "    if image is not None:\n",
    "        start = time.time()\n",
    "        # image = preprocess(image)\n",
    "\n",
    "        # (H, hogImage) = feature.hog(image, orientations=9,  pixels_per_cell=(16, 16), cells_per_block=(\n",
    "        #     2, 2), transform_sqrt=True, block_norm=\"L1\", visualize=True, feature_vector=True)\n",
    "        # pca_features = pca_transformer.transform(H.reshape(1, -1))\n",
    "\n",
    "        # label = model.predict(pca_features)\n",
    "        label = model.predict(image.reshape(1, -1))\n",
    "        end = time.time() - start\n",
    "        if label == testLabels[i]:\n",
    "            count_right += 1\n",
    "        labels.append(label)\n",
    "        times.append(end)\n",
    "\n",
    "\n",
    "# with open(r'./result_labels.txt', 'w') as fp:\n",
    "#     fp.write(\"\\n\".join(str(item) for item in labels))\n",
    "\n",
    "\n",
    "with open(r'result_labels.txt', 'w') as fp:\n",
    "    for item in labels:\n",
    "        # write each item on a new line\n",
    "        fp.write(\"%s\\n\" % item[0])\n",
    "with open(r'./result_times.txt', 'w') as fp:\n",
    "    fp.write(\"\\n\".join(str(item) for item in times))\n",
    "    \n",
    "print(count_right/len(testLabels))\n"
   ]
  }
 ],
 "metadata": {
  "kernelspec": {
   "display_name": "Python 3",
   "language": "python",
   "name": "python3"
  },
  "language_info": {
   "codemirror_mode": {
    "name": "ipython",
    "version": 3
   },
   "file_extension": ".py",
   "mimetype": "text/x-python",
   "name": "python",
   "nbconvert_exporter": "python",
   "pygments_lexer": "ipython3",
   "version": "3.11.1"
  },
  "orig_nbformat": 4
 },
 "nbformat": 4,
 "nbformat_minor": 2
}
