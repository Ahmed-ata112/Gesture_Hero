{
 "cells": [
  {
   "cell_type": "code",
   "execution_count": 1,
   "metadata": {},
   "outputs": [],
   "source": [
    "import cv2\n",
    "import joblib\n",
    "import os\n",
    "import time\n",
    "from os import walk\n",
    "from skimage import feature\n",
    "import imageio\n",
    "import numpy as np\n",
    "from matplotlib import pyplot as plt\n",
    "from sklearn.svm import SVC\n",
    "from sklearn.model_selection import train_test_split\n",
    "from scipy import ndimage as ndi\n",
    "import pickle\n",
    "import pandas as pd\n",
    "from sklearn.decomposition import PCA\n",
    "# from sklearn.metrics import plot_confusion_matrix\n",
    "\n",
    "from sklearn.metrics import ConfusionMatrixDisplay\n"
   ]
  },
  {
   "cell_type": "code",
   "execution_count": 2,
   "metadata": {},
   "outputs": [],
   "source": [
    "  \n",
    "def segm_6(img):\n",
    "#     blur the img then turn it into gray scale\n",
    "    blur = cv2.GaussianBlur(img, (5, 5), 0)\n",
    "    gray = cv2.cvtColor(blur, cv2.COLOR_BGR2GRAY)\n",
    "    return gray\n",
    "\n",
    "def segm_9(img):\n",
    "    # Convert BGR to HSV color space\n",
    "    hsv_img = cv2.cvtColor(img, cv2.COLOR_BGR2YCR_CB)\n",
    "    # Split HSV image into separate channels\n",
    "    _, _, B_channel = cv2.split(hsv_img)\n",
    "    _, trr2 = cv2.threshold(\n",
    "        B_channel, 1, 1.0, cv2.THRESH_BINARY_INV + cv2.THRESH_OTSU)\n",
    "    \n",
    "    trr2 = ndi.binary_fill_holes(trr2).astype(np.uint8)\n",
    "    \n",
    "    contours ,_= cv2.findContours(trr2, cv2.RETR_LIST, cv2.CHAIN_APPROX_SIMPLE)\n",
    "    maxcontour = max(contours, key=cv2.contourArea)\n",
    "    x,y,w,h = cv2.boundingRect(maxcontour)\n",
    "    crop = img[y:y+h,x:x+w]\n",
    "    masked_data = cv2.bitwise_and(crop, crop,mask = trr2[y:y+h,x:x+w])\n",
    "    masked_data = cv2.resize(masked_data,(128*2,64*2))\n",
    "    return cv2.cvtColor(masked_data, cv2.COLOR_BGR2GRAY)\n",
    "  \n",
    "  \n",
    "def make_to_left(img):\n",
    "  a = img.sum(axis=0)\n",
    "  a = a / a.max()\n",
    "  if(a[:int(len(a)//8)].sum() < a[int(len(a)*7//8):].sum()):\n",
    "    # flip the image\n",
    "    return cv2.flip(img, 1)\n",
    "  return img\n",
    "\n",
    "def preprocess(img):\n",
    "\n",
    "  img = make_to_left(img)\n",
    "  img = segm_9(img)\n",
    "  return img\n",
    "\n"
   ]
  },
  {
   "cell_type": "code",
   "execution_count": 3,
   "metadata": {},
   "outputs": [],
   "source": [
    "\n",
    "\n",
    "def ImageSegmentation():\n",
    "    path_IS = r\"./dataset_segmented\"\n",
    "    if not os.path.exists(path_IS):\n",
    "        os.makedirs(path_IS)\n",
    "    lstFiles = []  # nombre de imagenes\n",
    "    path = r\"./dataset\"\n",
    "\n",
    "    for (path, _, archivos) in walk(path):\n",
    "        # print(path)\n",
    "        for arch in archivos:\n",
    "            (nomArch, ext) = os.path.splitext(arch)\n",
    "            if (ext == \".JPG\" or ext == \".jpg\" or ext == \".PNG\" or ext == \".png\"  ):\n",
    "                label = path.split(\"\\\\\")[-1]\n",
    "                # print(label)\n",
    "                lstFiles.append(nomArch + ext)\n",
    "                direc = path + \"/\" + nomArch + ext\n",
    "                name = label + \"_\" + nomArch + ext\n",
    "                # print(path + \"/\" + nomArch + ext)\n",
    "                image = cv2.imread(direc)\n",
    "\n",
    "                if image is not None:\n",
    "                    image = cv2.resize(image, (461, 260))\n",
    "                    image = preprocess(image)\n",
    "                    imageio.imwrite(os.path.join(path_IS, name), image)\n",
    "\n",
    "\n",
    "ImageSegmentation()\n"
   ]
  },
  {
   "cell_type": "code",
   "execution_count": 4,
   "metadata": {},
   "outputs": [],
   "source": [
    "# # def HOG_oper(img_binary):\n",
    "# #     (H) = feature.hog(img_binary, orientations=9, pixels_per_cell=(16,16),\n",
    "# #                                   cells_per_block=(2, 2), transform_sqrt=True, block_norm=\"L1\",channel_axis=-1) \n",
    "# #     pca = joblib.load(r\"./Feature-Extraction/pca.pkl\") #PCA(0.97).fit_transform(H.reshape(1, -1))\n",
    "# #     components = pca.transform(H.reshape(1, -1))\n",
    "# #     # joblib.dump(pca, r\"./Feature-Extraction/pca.pkl\")\n",
    "# #     return components\n",
    "# # from tqdm import tqdm\n",
    "# # def HOG_PCA():\n",
    "# #     data_HOG = pd.read_csv(r'./Feature-Extraction/last_hog.txt', sep=',', header=None)\n",
    "# #     file2 = open(r\"./Feature-Extraction/last_hog_PCA.txt\", \"w\")\n",
    "# #     name_HOG = data_HOG.iloc[:, 0]\n",
    "# #     value_HOG = data_HOG.iloc[:, 1:-1]\n",
    "# #     tag_HOG = data_HOG.iloc[:, -1] # 0,1,2,3,4,5\n",
    "# #     print(\"PCA\")\n",
    "# #     pca = PCA(0.97).fit(value_HOG)\n",
    "# #     joblib.dump(pca, r\"./Feature-Extraction/last_hog_pca.pkl\")\n",
    "    \n",
    "# #     components = pca.transform(value_HOG)\n",
    "# #     print(components.shape)\n",
    "# #     for row in tqdm(range(len(components))):\n",
    "# #         file2.write(name_HOG[row])\n",
    "# #         for colm in range(len(components[row])):\n",
    "# #             file2.write(\",%.4f\" %components[row][colm])\n",
    "# #         file2.write(\",%s\" %tag_HOG[row] + \"\\n\")\n",
    "# #     file2.close()\n",
    "\n",
    "# def HOG():\n",
    "#     print(\"HOG\\n\")\n",
    "#     file  = open(r\"./Feature-Extraction/final_dataset.txt\", \"w\")\n",
    "#     lstFiles = []  # nombre de imagenes\n",
    "#     path = r\"./dataset_segmented\"\n",
    "#     for (path, _, archivos) in walk(path):\n",
    "#         for arch in archivos:\n",
    "#             (nomArch, ext) = os.path.splitext(arch)\n",
    "#             if (ext == \".JPG\"):\n",
    "#                 lstFiles.append(nomArch + ext)\n",
    "#                 direc = path + \"/\" + nomArch + ext\n",
    "#                 name = nomArch + ext\n",
    "#                 # print(nomArch + ext)\n",
    "#                 img_binary = cv2.imread(direc,0)\n",
    "                \n",
    "#                 (H) = feature.hog(img_binary, orientations=9,  pixels_per_cell=(16, 16),\n",
    "#                                   cells_per_block=(3, 3) ,block_norm='L2-Hys',feature_vector=True)#,channel_axis=-1)  # ,visualize=True\n",
    "#                 file.write(name)\n",
    "#                 for item in range(len(H)):\n",
    "#                     file.write(\",%.3f\" % H[item])\n",
    "#                 file.write(\",\" + name[0] + \"\\n\")\n",
    "#     file.close()\n",
    "    \n",
    "# HOG()\n",
    "# # HOG_PCA()\n"
   ]
  },
  {
   "cell_type": "code",
   "execution_count": 5,
   "metadata": {},
   "outputs": [],
   "source": [
    "\n",
    "labels, features =[], []\n",
    "for imagePath in os.listdir(\"dataset_segmented\"):\n",
    "    # extract the label from the image path\n",
    "    # we can get the label from the image name as the label is the first char of the image name\n",
    "    # for example, the label of image 1_1.jpg is 1\n",
    "    labels.append((int)(imagePath.split(os.path.sep)[-1][0]))\n",
    "    \n",
    "    # load the image, convert it to grayscale, and detect\n",
    "    # edges in it\n",
    "    image = cv2.imread(\"dataset_segmented/\" + imagePath,0)\n",
    "    \n",
    "    # extract Histogram of Oriented Gradients from the\n",
    "    # test image\n",
    "    # display the original image\n",
    "    # if the image exists, display it and count the number of images\n",
    "    if image is not None:\n",
    "        (H) = feature.hog(image, orientations=9,  pixels_per_cell=(16, 16),\n",
    "                                  cells_per_block=(3, 3) ,block_norm='L2-Hys',feature_vector=True)#,channel_axis=-1)  # ,visualize=True\n",
    "\n",
    "        features.append(H)\n",
    "        # print(components.shape)\n"
   ]
  },
  {
   "cell_type": "code",
   "execution_count": 6,
   "metadata": {},
   "outputs": [
    {
     "name": "stdout",
     "output_type": "stream",
     "text": [
      "1821\n",
      "1821\n"
     ]
    }
   ],
   "source": [
    "print(len(labels))\n",
    "print(len(features))"
   ]
  },
  {
   "cell_type": "code",
   "execution_count": 7,
   "metadata": {},
   "outputs": [],
   "source": [
    "trainingData, testData, trainingLabels, testLabels = train_test_split(features, labels, test_size=0.2, random_state=42)\n",
    "trainingData = np.asarray(trainingData)\n",
    "# nsamples, nx, ny = trainingData.shape\n",
    "# trainingData = trainingData.reshape((nsamples,nx*ny))\n",
    "\n",
    "testData = np.asarray(testData)\n",
    "# nsamples_test, nx_test, ny_test = testData.shape\n",
    "# testData = testData.reshape((nsamples_test,nx_test*ny_test))"
   ]
  },
  {
   "cell_type": "code",
   "execution_count": 41,
   "metadata": {},
   "outputs": [
    {
     "data": {
      "text/plain": [
       "9.271939516067505"
      ]
     },
     "execution_count": 41,
     "metadata": {},
     "output_type": "execute_result"
    }
   ],
   "source": [
    "start = time.time()\n",
    "\n",
    "model = SVC(kernel='poly')\n",
    "model.fit(trainingData, trainingLabels)\n",
    "\n",
    "time.time() - start\n"
   ]
  },
  {
   "cell_type": "code",
   "execution_count": null,
   "metadata": {},
   "outputs": [],
   "source": [
    "f = open(\"final_clf.pkl\", \"wb\") # wb = write binary\n",
    "f.write(pickle.dumps(model))\n",
    "f.close()\n"
   ]
  },
  {
   "cell_type": "code",
   "execution_count": 39,
   "metadata": {},
   "outputs": [],
   "source": [
    "from scipy.stats import uniform\n",
    "from sklearn.model_selection import RandomizedSearchCV\n"
   ]
  },
  {
   "cell_type": "code",
   "execution_count": 40,
   "metadata": {},
   "outputs": [
    {
     "name": "stdout",
     "output_type": "stream",
     "text": [
      "0.8712328767123287\n"
     ]
    }
   ],
   "source": [
    "randomized_model = SVC()\n",
    "param_grid = {\n",
    "    'kernel': ['poly'],\n",
    "    'C': uniform(loc=0, scale=10),\n",
    "    'gamma': uniform(loc=0, scale=1)\n",
    "}\n",
    "\n",
    "# Perform randomized search\n",
    "random_search = RandomizedSearchCV(randomized_model, param_distributions=param_grid, n_iter=10, cv=5)\n",
    "random_search.fit(trainingData, trainingLabels)\n",
    "\n",
    "# Print the best hyperparameters and score\n",
    "print(\"Best Hyperparameters: \", random_search.best_params_)\n",
    "print(\"Best Score: \", random_search.best_score_)"
   ]
  },
  {
   "cell_type": "code",
   "execution_count": 44,
   "metadata": {},
   "outputs": [
    {
     "name": "stdout",
     "output_type": "stream",
     "text": [
      "Average time to predict testing labels:  0.005838073443060052\n"
     ]
    }
   ],
   "source": [
    "\n",
    "test_labels, test_times = [], []\n",
    "\n",
    "count_right = 0\n",
    "for i, image in enumerate(testData):\n",
    "\n",
    "    if image is not None:\n",
    "        start = time.time()\n",
    "        label = model.predict(image.reshape(1, -1))\n",
    "        end = time.time() - start\n",
    "        if label == testLabels[i]:\n",
    "            count_right += 1\n",
    "        test_labels.append(label)\n",
    "        test_times.append(end)\n",
    "print(\"Average time to predict testing labels: \",np.average(np.asarray(test_times)))\n"
   ]
  },
  {
   "cell_type": "code",
   "execution_count": null,
   "metadata": {},
   "outputs": [],
   "source": [
    "\n",
    "with open(r'result_labels.txt', 'w') as fp:\n",
    "    for item in test_labels:\n",
    "        # write each item on a new line\n",
    "        fp.write(\"%s\\n\" % item[0])\n",
    "with open(r'./result_times.txt', 'w') as fp:\n",
    "    fp.write(\"\\n\".join(str(item) for item in test_times))\n",
    "    \n",
    "print(count_right/len(testLabels))"
   ]
  },
  {
   "cell_type": "code",
   "execution_count": 10,
   "metadata": {},
   "outputs": [
    {
     "name": "stdout",
     "output_type": "stream",
     "text": [
      "Confusion matrix, without normalization\n",
      "[[49  0  0  0  1  0]\n",
      " [ 3 68  0  0  0  1]\n",
      " [ 0  3 48  5  0  0]\n",
      " [ 0  0  5 52 10  1]\n",
      " [ 2  1  2  8 42  4]\n",
      " [ 0  0  0  1  0 59]]\n",
      "Normalized confusion matrix\n",
      "[[0.98       0.         0.         0.         0.02       0.        ]\n",
      " [0.04166667 0.94444444 0.         0.         0.         0.01388889]\n",
      " [0.         0.05357143 0.85714286 0.08928571 0.         0.        ]\n",
      " [0.         0.         0.07352941 0.76470588 0.14705882 0.01470588]\n",
      " [0.03389831 0.01694915 0.03389831 0.13559322 0.71186441 0.06779661]\n",
      " [0.         0.         0.         0.01666667 0.         0.98333333]]\n"
     ]
    },
    {
     "data": {
      "image/png": "[encoded data removed]",
      "text/plain": [
       "<Figure size 640x480 with 2 Axes>"
      ]
     },
     "metadata": {},
     "output_type": "display_data"
    },
    {
     "data": {
      "image/png": "[encoded data removed]",
      "text/plain": [
       "<Figure size 640x480 with 2 Axes>"
      ]
     },
     "metadata": {},
     "output_type": "display_data"
    }
   ],
   "source": [
    "titles_options = [\n",
    "    (\"Confusion matrix, without normalization\", None),\n",
    "    (\"Normalized confusion matrix\", \"true\"),\n",
    "]\n",
    "for title, normalize in titles_options:\n",
    "    disp = ConfusionMatrixDisplay.from_estimator(\n",
    "        model,\n",
    "        testData,\n",
    "        testLabels,\n",
    "        display_labels=['0','1','2','3','4','5'],\n",
    "        cmap=plt.cm.Blues,\n",
    "        normalize=normalize,\n",
    "    )\n",
    "    disp.ax_.set_title(title)\n",
    "\n",
    "    print(title)\n",
    "    print(disp.confusion_matrix)\n"
   ]
  },
  {
   "cell_type": "code",
   "execution_count": 11,
   "metadata": {},
   "outputs": [
    {
     "ename": "FileNotFoundError",
     "evalue": "[WinError 3] The system cannot find the path specified: 'test_test_seg'",
     "output_type": "error",
     "traceback": [
      "\u001b[1;31m---------------------------------------------------------------------------\u001b[0m",
      "\u001b[1;31mFileNotFoundError\u001b[0m                         Traceback (most recent call last)",
      "\u001b[1;32me:\\Neural_Network_project_3rd_year_2nd_sem\\Hand-Gestures\\final_script.ipynb Cell 11\u001b[0m in \u001b[0;36m<cell line: 2>\u001b[1;34m()\u001b[0m\n\u001b[0;32m      <a href='vscode-notebook-cell:/e%3A/Neural_Network_project_3rd_year_2nd_sem/Hand-Gestures/final_script.ipynb#X13sZmlsZQ%3D%3D?line=0'>1</a>\u001b[0m labels2, predicted_labels \u001b[39m=\u001b[39m[], []\n\u001b[1;32m----> <a href='vscode-notebook-cell:/e%3A/Neural_Network_project_3rd_year_2nd_sem/Hand-Gestures/final_script.ipynb#X13sZmlsZQ%3D%3D?line=1'>2</a>\u001b[0m \u001b[39mfor\u001b[39;00m imagePath \u001b[39min\u001b[39;00m os\u001b[39m.\u001b[39;49mlistdir(\u001b[39m\"\u001b[39;49m\u001b[39mtest_test_seg\u001b[39;49m\u001b[39m\"\u001b[39;49m):\n\u001b[0;32m      <a href='vscode-notebook-cell:/e%3A/Neural_Network_project_3rd_year_2nd_sem/Hand-Gestures/final_script.ipynb#X13sZmlsZQ%3D%3D?line=2'>3</a>\u001b[0m     \u001b[39m# extract the label from the image path\u001b[39;00m\n\u001b[0;32m      <a href='vscode-notebook-cell:/e%3A/Neural_Network_project_3rd_year_2nd_sem/Hand-Gestures/final_script.ipynb#X13sZmlsZQ%3D%3D?line=3'>4</a>\u001b[0m     \u001b[39m# we can get the label from the image name as the label is the first char of the image name\u001b[39;00m\n\u001b[0;32m      <a href='vscode-notebook-cell:/e%3A/Neural_Network_project_3rd_year_2nd_sem/Hand-Gestures/final_script.ipynb#X13sZmlsZQ%3D%3D?line=4'>5</a>\u001b[0m     \u001b[39m# for example, the label of image 1_1.jpg is 1\u001b[39;00m\n\u001b[0;32m      <a href='vscode-notebook-cell:/e%3A/Neural_Network_project_3rd_year_2nd_sem/Hand-Gestures/final_script.ipynb#X13sZmlsZQ%3D%3D?line=5'>6</a>\u001b[0m     labels2\u001b[39m.\u001b[39mappend((\u001b[39mint\u001b[39m)(imagePath\u001b[39m.\u001b[39msplit(os\u001b[39m.\u001b[39mpath\u001b[39m.\u001b[39msep)[\u001b[39m-\u001b[39m\u001b[39m1\u001b[39m][\u001b[39m0\u001b[39m]))\n\u001b[0;32m      <a href='vscode-notebook-cell:/e%3A/Neural_Network_project_3rd_year_2nd_sem/Hand-Gestures/final_script.ipynb#X13sZmlsZQ%3D%3D?line=7'>8</a>\u001b[0m     \u001b[39m# load the image, convert it to grayscale, and detect\u001b[39;00m\n\u001b[0;32m      <a href='vscode-notebook-cell:/e%3A/Neural_Network_project_3rd_year_2nd_sem/Hand-Gestures/final_script.ipynb#X13sZmlsZQ%3D%3D?line=8'>9</a>\u001b[0m     \u001b[39m# edges in it\u001b[39;00m\n",
      "\u001b[1;31mFileNotFoundError\u001b[0m: [WinError 3] The system cannot find the path specified: 'test_test_seg'"
     ]
    }
   ],
   "source": [
    "labels2, predicted_labels =[], []\n",
    "for imagePath in os.listdir(\"test_test_seg\"):\n",
    "    # extract the label from the image path\n",
    "    # we can get the label from the image name as the label is the first char of the image name\n",
    "    # for example, the label of image 1_1.jpg is 1\n",
    "    labels2.append((int)(imagePath.split(os.path.sep)[-1][0]))\n",
    "    \n",
    "    # load the image, convert it to grayscale, and detect\n",
    "    # edges in it\n",
    "    image = cv2.imread(\"test_test_seg/\" + imagePath)\n",
    "    \n",
    "    # extract Histogram of Oriented Gradients from the\n",
    "    # test image\n",
    "    # display the original image\n",
    "    # if the image exists, display it and count the number of images\n",
    "    if image is not None:      \n",
    "        (H) = feature.hog(image, orientations=9,  pixels_per_cell=(16, 16),\n",
    "                                  cells_per_block=(3, 3) ,block_norm='L2-Hys',feature_vector=True,channel_axis=-1)  # ,visualize=True\n",
    "        predicted_label = model.predict(H.reshape(1, -1))\n",
    "        predicted_labels.append(predicted_label[0])\n"
   ]
  },
  {
   "cell_type": "code",
   "execution_count": null,
   "metadata": {},
   "outputs": [
    {
     "name": "stdout",
     "output_type": "stream",
     "text": [
      "0.6542056074766355\n"
     ]
    }
   ],
   "source": [
    "predicted_labels = np.asarray(predicted_labels)\n",
    "labels2 = np.asarray(labels2)\n",
    "\n",
    "print(len(predicted_labels[predicted_labels != labels2]) / len(labels2))\n",
    "# print(labels2)"
   ]
  },
  {
   "cell_type": "code",
   "execution_count": null,
   "metadata": {},
   "outputs": [
    {
     "ename": "IndexError",
     "evalue": "invalid index to scalar variable.",
     "output_type": "error",
     "traceback": [
      "\u001b[1;31m---------------------------------------------------------------------------\u001b[0m",
      "\u001b[1;31mIndexError\u001b[0m                                Traceback (most recent call last)",
      "Cell \u001b[1;32mIn[87], line 4\u001b[0m\n\u001b[0;32m      2\u001b[0m predicted_labels \u001b[39m=\u001b[39m np\u001b[39m.\u001b[39masanyarray(predicted_labels)\n\u001b[0;32m      3\u001b[0m \u001b[39m# predicted_labels = predicted_labels.reshape(1,-1)\u001b[39;00m\n\u001b[1;32m----> 4\u001b[0m predicted_labels \u001b[39m=\u001b[39m [x[\u001b[39m0\u001b[39;49m] \u001b[39mfor\u001b[39;49;00m x \u001b[39min\u001b[39;49;00m predicted_labels]\n\u001b[0;32m      5\u001b[0m predicted_labels \u001b[39m=\u001b[39m np\u001b[39m.\u001b[39masanyarray(predicted_labels)\n\u001b[0;32m      7\u001b[0m \u001b[39mprint\u001b[39m(predicted_labels\u001b[39m.\u001b[39mshape)\n",
      "Cell \u001b[1;32mIn[87], line 4\u001b[0m, in \u001b[0;36m<listcomp>\u001b[1;34m(.0)\u001b[0m\n\u001b[0;32m      2\u001b[0m predicted_labels \u001b[39m=\u001b[39m np\u001b[39m.\u001b[39masanyarray(predicted_labels)\n\u001b[0;32m      3\u001b[0m \u001b[39m# predicted_labels = predicted_labels.reshape(1,-1)\u001b[39;00m\n\u001b[1;32m----> 4\u001b[0m predicted_labels \u001b[39m=\u001b[39m [x[\u001b[39m0\u001b[39;49m] \u001b[39mfor\u001b[39;00m x \u001b[39min\u001b[39;00m predicted_labels]\n\u001b[0;32m      5\u001b[0m predicted_labels \u001b[39m=\u001b[39m np\u001b[39m.\u001b[39masanyarray(predicted_labels)\n\u001b[0;32m      7\u001b[0m \u001b[39mprint\u001b[39m(predicted_labels\u001b[39m.\u001b[39mshape)\n",
      "\u001b[1;31mIndexError\u001b[0m: invalid index to scalar variable."
     ]
    }
   ],
   "source": [
    "labels2 = np.asanyarray(labels2)\n",
    "predicted_labels = np.asanyarray(predicted_labels)\n",
    "# predicted_labels = predicted_labels.reshape(1,-1)\n",
    "predicted_labels = [x[0] for x in predicted_labels]\n",
    "predicted_labels = np.asanyarray(predicted_labels)\n",
    "\n",
    "print(predicted_labels.shape)\n"
   ]
  },
  {
   "cell_type": "code",
   "execution_count": null,
   "metadata": {},
   "outputs": [
    {
     "name": "stdout",
     "output_type": "stream",
     "text": [
      "0.3271028037383178\n"
     ]
    }
   ],
   "source": [
    "wrong = len(labels2[labels2 != predicted_labels])\n",
    "print(1-wrong/107)"
   ]
  },
  {
   "cell_type": "code",
   "execution_count": null,
   "metadata": {},
   "outputs": [],
   "source": [
    "# !rm -rf /content/kaggle/dataset/dataset\n",
    "def plt_t(title, img, cmap=None):\n",
    "    plt.imshow(img, cmap=cmap)\n",
    "    plt.title(title)\n",
    "    plt.show()"
   ]
  },
  {
   "cell_type": "code",
   "execution_count": null,
   "metadata": {},
   "outputs": [],
   "source": [
    "kamal_labels_labels_bgd = pd.read_csv(\"./kamal_labels.txt\", header= None)#, delimiter='\\n')\n",
    "\n",
    "# print(len(kamal_labels_labels_bgd))\n",
    "kamal_labels_labels_bgd = np.asarray(kamal_labels_labels_bgd.values)"
   ]
  },
  {
   "cell_type": "code",
   "execution_count": null,
   "metadata": {},
   "outputs": [],
   "source": [
    "kamal_labels = []\n",
    "i = 0\n",
    "for imagePath in os.listdir(\"kamal\"):\n",
    "\n",
    "    image = cv2.imread(\"kamal/\" + imagePath)\n",
    "\n",
    "    if image is not None:\n",
    "        # image = cv2.cvtColor(image, cv2.COLOR_BGR2GRAY)\n",
    "        # image = cv2.resize(image, (461, 260))\n",
    "        image = preprocess(image)\n",
    "        # plt_t('a', image)\n",
    "        # print(image.shape)\n",
    "        (H, vis) = feature.hog(image, orientations=9,  pixels_per_cell=(16, 16),\n",
    "                          cells_per_block=(3, 3), block_norm='L2-Hys', feature_vector=True, visualize = True)\n",
    "\n",
    "        # components = pca_transformer.transform(H.reshape(1, -1))\n",
    "        # kamal_labels.append(model.predict(components)[0])\n",
    "        label_k = model.predict(H.reshape(1, -1))[0]\n",
    "        # if label_k != kamal_labels_labels_bgd[i]:\n",
    "            # plt_t(' ', image, cmap='gray')\n",
    "            # plt_t(' ', vis, cmap='gray')\n",
    "        i += 1\n",
    "        # features.append(components)\n",
    "        # print(components.shape)\n"
   ]
  },
  {
   "cell_type": "code",
   "execution_count": 46,
   "metadata": {},
   "outputs": [
    {
     "name": "stdout",
     "output_type": "stream",
     "text": [
      "Average time to classify a picture:  0.46168281855406584\n"
     ]
    }
   ],
   "source": [
    "external_dataset_labels,external_dataset_times = [],[]\n",
    "i = 0\n",
    "for imagePath in os.listdir(\"kamal\"):\n",
    "\n",
    "    image = cv2.imread(\"kamal/\" + imagePath)\n",
    "    start = time.time()\n",
    "    if image is not None:\n",
    "        image = preprocess(image)\n",
    "\n",
    "        (H) = feature.hog(image, orientations=9,  pixels_per_cell=(16, 16),\n",
    "                          cells_per_block=(3, 3), block_norm='L2-Hys', feature_vector=True)\n",
    "\n",
    "        l = model.predict(H.reshape(1, -1))[0]\n",
    "        end = time.time()\n",
    "        external_dataset_labels.append(l)\n",
    "        external_dataset_times.append(end-start)\n",
    "        i += 1\n",
    "\n",
    "print(\"Average time to classify a picture: \",np.average(np.asarray(external_dataset_times)))\n"
   ]
  },
  {
   "cell_type": "code",
   "execution_count": 38,
   "metadata": {},
   "outputs": [
    {
     "data": {
      "text/plain": [
       "[' (1).jpg',\n",
       " ' (10).jpg',\n",
       " ' (11).jpg',\n",
       " ' (12).jpg',\n",
       " ' (13).jpg',\n",
       " ' (14).jpg',\n",
       " ' (15).jpg',\n",
       " ' (16).jpg',\n",
       " ' (17).jpg',\n",
       " ' (18).jpg',\n",
       " ' (19).jpg',\n",
       " ' (2).jpg',\n",
       " ' (20).jpg',\n",
       " ' (21).jpg',\n",
       " ' (22).jpg',\n",
       " ' (23).jpg',\n",
       " ' (24).jpg',\n",
       " ' (25).jpg',\n",
       " ' (26).jpg',\n",
       " ' (27).jpg',\n",
       " ' (28).jpg',\n",
       " ' (29).jpg',\n",
       " ' (3).jpg',\n",
       " ' (30).jpg',\n",
       " ' (31).jpg',\n",
       " ' (32).jpg',\n",
       " ' (33).jpg',\n",
       " ' (34).jpg',\n",
       " ' (35).jpg',\n",
       " ' (36).jpg',\n",
       " ' (37).jpg',\n",
       " ' (38).jpg',\n",
       " ' (39).jpg',\n",
       " ' (4).jpg',\n",
       " ' (40).jpg',\n",
       " ' (41).jpg',\n",
       " ' (42).jpg',\n",
       " ' (43).jpg',\n",
       " ' (44).jpg',\n",
       " ' (45).jpg',\n",
       " ' (46).jpg',\n",
       " ' (47).jpg',\n",
       " ' (48).jpg',\n",
       " ' (49).jpg',\n",
       " ' (5).jpg',\n",
       " ' (50).jpg',\n",
       " ' (51).jpg',\n",
       " ' (52).jpg',\n",
       " ' (53).jpg',\n",
       " ' (54).jpg',\n",
       " ' (6).jpg',\n",
       " ' (7).jpg',\n",
       " ' (8).jpg',\n",
       " ' (9).jpg']"
      ]
     },
     "execution_count": 38,
     "metadata": {},
     "output_type": "execute_result"
    }
   ],
   "source": [
    "lst = os.listdir(\"kamal\")\n",
    "lst"
   ]
  },
  {
   "cell_type": "code",
   "execution_count": null,
   "metadata": {},
   "outputs": [],
   "source": [
    "kamal_labels = np.asarray(kamal_labels)\n",
    "# kamal_labels_labels_bgd = np.asarray(kamal_labels_labels_bgd)"
   ]
  },
  {
   "cell_type": "code",
   "execution_count": null,
   "metadata": {},
   "outputs": [
    {
     "data": {
      "text/plain": [
       "array([4, 0, 0, 3, 1, 1, 1, 1, 1, 1, 1, 5, 2, 2, 1, 2, 3, 5, 1, 2, 3, 4,\n",
       "       1, 2, 5, 4, 5, 5, 4, 1, 3, 5, 5, 0, 4, 3, 2, 4, 5, 5, 5, 2, 4, 4,\n",
       "       0, 2, 1, 1, 2, 2, 2, 1, 0, 0])"
      ]
     },
     "execution_count": 34,
     "metadata": {},
     "output_type": "execute_result"
    }
   ],
   "source": [
    "kamal_labels"
   ]
  },
  {
   "cell_type": "code",
   "execution_count": null,
   "metadata": {},
   "outputs": [
    {
     "data": {
      "text/plain": [
       "array([4, 5, 5, 2, 3, 4, 5, 0, 0, 0, 0, 0, 1, 1, 1, 1, 1, 2, 2, 2, 2, 2,\n",
       "       3, 3, 3, 3, 3, 4, 4, 4, 4, 4, 5, 5, 5, 2, 3, 5, 5, 4, 4, 1, 5, 5,\n",
       "       5, 5, 2, 3, 4, 2, 1, 1, 2, 3], dtype=int64)"
      ]
     },
     "execution_count": 30,
     "metadata": {},
     "output_type": "execute_result"
    }
   ],
   "source": [
    "kamal_labels_labels_bgd"
   ]
  },
  {
   "cell_type": "code",
   "execution_count": null,
   "metadata": {},
   "outputs": [
    {
     "ename": "IndexError",
     "evalue": "invalid index to scalar variable.",
     "output_type": "error",
     "traceback": [
      "\u001b[1;31m---------------------------------------------------------------------------\u001b[0m",
      "\u001b[1;31mIndexError\u001b[0m                                Traceback (most recent call last)",
      "Cell \u001b[1;32mIn[29], line 1\u001b[0m\n\u001b[1;32m----> 1\u001b[0m kamal_labels_labels_bgd \u001b[39m=\u001b[39m np\u001b[39m.\u001b[39masarray([x[\u001b[39m0\u001b[39;49m] \u001b[39mfor\u001b[39;49;00m x \u001b[39min\u001b[39;49;00m kamal_labels_labels_bgd])\n",
      "Cell \u001b[1;32mIn[29], line 1\u001b[0m, in \u001b[0;36m<listcomp>\u001b[1;34m(.0)\u001b[0m\n\u001b[1;32m----> 1\u001b[0m kamal_labels_labels_bgd \u001b[39m=\u001b[39m np\u001b[39m.\u001b[39masarray([x[\u001b[39m0\u001b[39;49m] \u001b[39mfor\u001b[39;00m x \u001b[39min\u001b[39;00m kamal_labels_labels_bgd])\n",
      "\u001b[1;31mIndexError\u001b[0m: invalid index to scalar variable."
     ]
    }
   ],
   "source": [
    "kamal_labels_labels_bgd = np.asarray([x[0] for x in kamal_labels_labels_bgd])"
   ]
  },
  {
   "cell_type": "code",
   "execution_count": null,
   "metadata": {},
   "outputs": [
    {
     "name": "stdout",
     "output_type": "stream",
     "text": [
      "[4 5 5 2 3 4 5 0 0 0 0 0 1 1 1 1 1 2 2 2 2 2 3 3 3 3 3 4 4 4 4 4 5 5 5 2 3\n",
      " 5 5 4 4 1 5 5 5 5 2 3 4 2 1 1 2 3]\n"
     ]
    },
    {
     "data": {
      "text/plain": [
       "False"
      ]
     },
     "execution_count": 26,
     "metadata": {},
     "output_type": "execute_result"
    }
   ],
   "source": [
    "print(kamal_labels_labels_bgd)\n",
    "kamal_labels_labels_bgd[0] == kamal_labels[1] "
   ]
  },
  {
   "cell_type": "code",
   "execution_count": null,
   "metadata": {},
   "outputs": [
    {
     "name": "stdout",
     "output_type": "stream",
     "text": [
      "46\n"
     ]
    },
    {
     "data": {
      "text/plain": [
       "array([5, 5, 2, 3, 4, 5, 0, 0, 0, 0, 0, 1, 1, 1, 1, 2, 2, 2, 2, 3, 3, 3,\n",
       "       3, 3, 4, 4, 4, 4, 5, 5, 2, 3, 5, 4, 4, 1, 5, 5, 5, 5, 2, 3, 4, 1,\n",
       "       2, 3], dtype=int64)"
      ]
     },
     "execution_count": 33,
     "metadata": {},
     "output_type": "execute_result"
    }
   ],
   "source": [
    "\n",
    "print(len(kamal_labels_labels_bgd[kamal_labels_labels_bgd != kamal_labels ]) )\n",
    "kamal_labels_labels_bgd[kamal_labels_labels_bgd != kamal_labels ]"
   ]
  }
 ],
 "metadata": {
  "kernelspec": {
   "display_name": "Python 3",
   "language": "python",
   "name": "python3"
  },
  "language_info": {
   "codemirror_mode": {
    "name": "ipython",
    "version": 3
   },
   "file_extension": ".py",
   "mimetype": "text/x-python",
   "name": "python",
   "nbconvert_exporter": "python",
   "pygments_lexer": "ipython3",
   "version": "3.10.1"
  },
  "orig_nbformat": 4
 },
 "nbformat": 4,
 "nbformat_minor": 2
}
